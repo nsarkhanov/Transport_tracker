{
 "cells": [
  {
   "cell_type": "code",
   "execution_count": 2,
   "id": "cd87da3d",
   "metadata": {
    "ExecuteTime": {
     "end_time": "2021-05-21T13:53:25.343582Z",
     "start_time": "2021-05-21T13:53:25.020404Z"
    }
   },
   "outputs": [],
   "source": [
    "import pandas as pd\n",
    "\n"
   ]
  },
  {
   "cell_type": "code",
   "execution_count": 21,
   "id": "0f7a7a90",
   "metadata": {
    "ExecuteTime": {
     "end_time": "2021-05-21T14:05:32.307747Z",
     "start_time": "2021-05-21T14:05:32.268822Z"
    }
   },
   "outputs": [
    {
     "data": {
      "text/plain": [
       "0        NaN\n",
       "1        NaN\n",
       "2      0.000\n",
       "3        NaN\n",
       "4      0.000\n",
       "5        NaN\n",
       "6      0.000\n",
       "7        NaN\n",
       "8      0.000\n",
       "9        NaN\n",
       "10       NaN\n",
       "11    23.650\n",
       "12    23.650\n",
       "13    23.650\n",
       "14    23.650\n",
       "15    23.650\n",
       "16    23.650\n",
       "17    23.650\n",
       "18       NaN\n",
       "19    23.650\n",
       "20       NaN\n",
       "21     1.200\n",
       "22     0.395\n",
       "23     1.740\n",
       "24     1.710\n",
       "25     1.700\n",
       "26     0.395\n",
       "27     1.600\n",
       "28     1.740\n",
       "29     0.000\n",
       "Name: speed_mean, dtype: float64"
      ]
     },
     "execution_count": 21,
     "metadata": {},
     "output_type": "execute_result"
    }
   ],
   "source": [
    "sample=pd.read_csv('./data/sample.csv')\n",
    "sample.columns\n",
    "sample.speed_mean"
   ]
  },
  {
   "cell_type": "code",
   "execution_count": 18,
   "id": "83e407ab",
   "metadata": {
    "ExecuteTime": {
     "end_time": "2021-05-21T14:01:12.779794Z",
     "start_time": "2021-05-21T14:01:12.768267Z"
    }
   },
   "outputs": [
    {
     "data": {
      "text/plain": [
       "0.16854356812898"
      ]
     },
     "execution_count": 18,
     "metadata": {},
     "output_type": "execute_result"
    }
   ],
   "source": [
    "lin_still_mean=sample[sample[['android_sensor_linear_acceleration_mean','target']]['target']=='Still']['android_sensor_linear_acceleration_mean'].mean()\n",
    "lin_still_mean"
   ]
  },
  {
   "cell_type": "code",
   "execution_count": null,
   "id": "f3a4ccd1",
   "metadata": {},
   "outputs": [],
   "source": []
  },
  {
   "cell_type": "code",
   "execution_count": 19,
   "id": "d4baaeef",
   "metadata": {
    "ExecuteTime": {
     "end_time": "2021-05-21T14:01:14.334898Z",
     "start_time": "2021-05-21T14:01:14.322777Z"
    }
   },
   "outputs": [
    {
     "data": {
      "text/plain": [
       "4.140383246948"
      ]
     },
     "execution_count": 19,
     "metadata": {},
     "output_type": "execute_result"
    }
   ],
   "source": [
    "lin_walk_mean=sample[sample[['android_sensor_linear_acceleration_mean','target']]['target']=='Walking']['android_sensor_linear_acceleration_mean'].mean()\n",
    "lin_walk_mean"
   ]
  },
  {
   "cell_type": "code",
   "execution_count": 20,
   "id": "10bb9960",
   "metadata": {
    "ExecuteTime": {
     "end_time": "2021-05-21T14:01:15.906594Z",
     "start_time": "2021-05-21T14:01:15.896288Z"
    }
   },
   "outputs": [
    {
     "data": {
      "text/plain": [
       "0.7619632764196"
      ]
     },
     "execution_count": 20,
     "metadata": {},
     "output_type": "execute_result"
    }
   ],
   "source": [
    "lin_car_mean=sample[sample[['android_sensor_linear_acceleration_mean','target']]['target']=='Car']['android_sensor_linear_acceleration_mean'].mean()\n",
    "lin_car_mean"
   ]
  }
 ],
 "metadata": {
  "hide_input": false,
  "kernelspec": {
   "display_name": "Python 3",
   "language": "python",
   "name": "python3"
  },
  "language_info": {
   "codemirror_mode": {
    "name": "ipython",
    "version": 3
   },
   "file_extension": ".py",
   "mimetype": "text/x-python",
   "name": "python",
   "nbconvert_exporter": "python",
   "pygments_lexer": "ipython3",
   "version": "3.8.2"
  },
  "toc": {
   "base_numbering": 1,
   "nav_menu": {},
   "number_sections": true,
   "sideBar": true,
   "skip_h1_title": false,
   "title_cell": "Table of Contents",
   "title_sidebar": "Contents",
   "toc_cell": false,
   "toc_position": {},
   "toc_section_display": true,
   "toc_window_display": false
  },
  "varInspector": {
   "cols": {
    "lenName": 16,
    "lenType": 16,
    "lenVar": 40
   },
   "kernels_config": {
    "python": {
     "delete_cmd_postfix": "",
     "delete_cmd_prefix": "del ",
     "library": "var_list.py",
     "varRefreshCmd": "print(var_dic_list())"
    },
    "r": {
     "delete_cmd_postfix": ") ",
     "delete_cmd_prefix": "rm(",
     "library": "var_list.r",
     "varRefreshCmd": "cat(var_dic_list()) "
    }
   },
   "types_to_exclude": [
    "module",
    "function",
    "builtin_function_or_method",
    "instance",
    "_Feature"
   ],
   "window_display": false
  }
 },
 "nbformat": 4,
 "nbformat_minor": 5
}
